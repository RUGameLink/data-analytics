{
  "nbformat": 4,
  "nbformat_minor": 0,
  "metadata": {
    "colab": {
      "provenance": [],
      "include_colab_link": true
    },
    "kernelspec": {
      "name": "python3",
      "display_name": "Python 3"
    },
    "language_info": {
      "name": "python"
    }
  },
  "cells": [
    {
      "cell_type": "markdown",
      "metadata": {
        "id": "view-in-github",
        "colab_type": "text"
      },
      "source": [
        "<a href=\"https://colab.research.google.com/github/RUGameLink/data-analytics/blob/main/machine_learning_mod.ipynb\" target=\"_parent\"><img src=\"https://colab.research.google.com/assets/colab-badge.svg\" alt=\"Open In Colab\"/></a>"
      ]
    },
    {
      "cell_type": "markdown",
      "metadata": {
        "id": "Bs82_YpNDddD"
      },
      "source": [
        "Библиотечки и модули"
      ]
    },
    {
      "cell_type": "code",
      "metadata": {
        "id": "yIoSKfdwBQQ_"
      },
      "source": [
        "import numpy as np\n",
        "import tensorflow as tf\n",
        "import matplotlib.pyplot as plt\n",
        "from tensorflow import keras\n",
        "%matplotlib inline\n",
        "from tensorflow.keras.datasets import fashion_mnist #В обучающей выборке 60 тыс. рисунков и 10 тыс в тестовой\n",
        "from tensorflow.keras.models import Sequential #Последовательная модель слоев\n",
        "from tensorflow.keras.layers import Dense, Dropout\n",
        "from tensorflow.keras import utils"
      ],
      "execution_count": null,
      "outputs": []
    },
    {
      "cell_type": "markdown",
      "metadata": {
        "id": "bqi5rw9GEZLP"
      },
      "source": [
        "Раздробление датасэта на обучающую и тестовую"
      ]
    },
    {
      "cell_type": "code",
      "metadata": {
        "id": "u0sgdSmvEeKn"
      },
      "source": [
        "(x_train, y_train), (x_test, y_test) = fashion_mnist.load_data()"
      ],
      "execution_count": null,
      "outputs": []
    },
    {
      "cell_type": "code",
      "metadata": {
        "id": "rHFix3qMUqie"
      },
      "source": [
        "class_names = ['T-shirt', 'Trouser', 'Pullover', 'Dress', 'Coat', 'Sandal', 'Shirt', 'Sneaker', 'Bag', 'Ankle boot'] #Даем название классам"
      ],
      "execution_count": null,
      "outputs": []
    },
    {
      "cell_type": "markdown",
      "metadata": {
        "id": "arInxnskVDQ1"
      },
      "source": [
        "Предварительная обработка данных"
      ]
    },
    {
      "cell_type": "code",
      "metadata": {
        "colab": {
          "base_uri": "https://localhost:8080/",
          "height": 265
        },
        "id": "3lGdlw1uVJaj",
        "outputId": "48c45a47-0d60-44f3-abd9-b990edf53d16"
      },
      "source": [
        "plt.figure()\n",
        "plt.imshow(x_train[10])\n",
        "plt.colorbar()\n",
        "plt.grid(False)"
      ],
      "execution_count": null,
      "outputs": [
        {
          "output_type": "display_data",
          "data": {
            "text/plain": [
              "<Figure size 432x288 with 2 Axes>"
            ],
            "image/png": "[encoded data removed]"
          },
          "metadata": {
            "needs_background": "light"
          }
        }
      ]
    },
    {
      "cell_type": "markdown",
      "metadata": {
        "id": "JQvJWaSzVyBz"
      },
      "source": [
        "Нормализация данных в пределах от 0 до 255 (если пиксель темный - 0, если светлый - 255) "
      ]
    },
    {
      "cell_type": "code",
      "metadata": {
        "id": "fih55D3jVuw7"
      },
      "source": [
        "x_train = x_train / 255 #Делим на 255, чтобы диапазон входных данных был в пределах от 0 до 1\n",
        "x_test = x_test / 255"
      ],
      "execution_count": null,
      "outputs": []
    },
    {
      "cell_type": "markdown",
      "metadata": {
        "id": "TzqPxPxGWefV"
      },
      "source": [
        "Проверяем результат нормализации"
      ]
    },
    {
      "cell_type": "code",
      "metadata": {
        "colab": {
          "base_uri": "https://localhost:8080/",
          "height": 269
        },
        "id": "1Sk9JTtjWcwP",
        "outputId": "b914c80e-8e6f-4a0f-f0ba-0ee0e3234cec"
      },
      "source": [
        "plt.figure()\n",
        "plt.imshow(x_train[10])\n",
        "plt.colorbar()\n",
        "plt.grid(False)"
      ],
      "execution_count": null,
      "outputs": [
        {
          "output_type": "display_data",
          "data": {
            "text/plain": [
              "<Figure size 432x288 with 2 Axes>"
            ],
            "image/png": "[encoded data removed]"
          },
          "metadata": {
            "needs_background": "light"
          }
        }
      ]
    },
    {
      "cell_type": "markdown",
      "metadata": {
        "id": "PYkrEDoWWpcP"
      },
      "source": [
        "Просмотр нескольких изображений с метками"
      ]
    },
    {
      "cell_type": "code",
      "metadata": {
        "colab": {
          "base_uri": "https://localhost:8080/",
          "height": 589
        },
        "id": "CCHAQJHJWutF",
        "outputId": "ee0a1dd8-f859-49a7-d861-c16f1ed8b7bc"
      },
      "source": [
        "plt.figure(figsize=(10,10))\n",
        "for i in range(25):\n",
        "  plt.subplot(5,5,i+1)\n",
        "  plt.xticks([])\n",
        "  plt.yticks([])\n",
        "  plt.imshow(x_train[i])\n",
        "  plt.xlabel(class_names[y_train[i]])"
      ],
      "execution_count": null,
      "outputs": [
        {
          "output_type": "display_data",
          "data": {
            "text/plain": [
              "<Figure size 720x720 with 25 Axes>"
            ],
            "image/png": "[encoded data removed]"
          },
          "metadata": {}
        }
      ]
    },
    {
      "cell_type": "markdown",
      "metadata": {
        "id": "-BFadQgHbi0m"
      },
      "source": [
        "Инициализация нейронной сети"
      ]
    },
    {
      "cell_type": "code",
      "metadata": {
        "id": "Z9l7ogPTbdxy"
      },
      "source": [
        "model = keras.Sequential([\n",
        "                          keras.layers.Flatten(input_shape=(28,28)), #Преобрабование изорбажения в массив\n",
        "                          keras.layers.Dense(128, activation=\"relu\"), #Входной слой (полносвязный)\n",
        "                          keras.layers.Dense(10, activation=\"softmax\")\n",
        "])"
      ],
      "execution_count": null,
      "outputs": []
    },
    {
      "cell_type": "markdown",
      "metadata": {
        "id": "f55IApZsc7t3"
      },
      "source": [
        "Компиляция модели (указание параметров обучения)"
      ]
    },
    {
      "cell_type": "code",
      "metadata": {
        "id": "MpNWrjpkc9q1"
      },
      "source": [
        "model.compile(optimizer=tf.keras.optimizers.SGD(), loss='sparse_categorical_crossentropy', metrics=['accuracy']) \n",
        "#Используем стахостический градиентный спуск в кач-ве оптимизатора, функция ошибки - категориальная перекрестная энтропия, параметр качества - accuracy (доля правильных ответов)"
      ],
      "execution_count": null,
      "outputs": []
    },
    {
      "cell_type": "markdown",
      "metadata": {
        "id": "H5v690zCeIai"
      },
      "source": [
        "Смотрим параметры"
      ]
    },
    {
      "cell_type": "code",
      "metadata": {
        "colab": {
          "base_uri": "https://localhost:8080/"
        },
        "id": "cueZlcRXeIvC",
        "outputId": "dedc493a-237a-43f3-9896-35e12073f7a0"
      },
      "source": [
        "model.summary()"
      ],
      "execution_count": null,
      "outputs": [
        {
          "output_type": "stream",
          "name": "stdout",
          "text": [
            "Model: \"sequential_1\"\n",
            "_________________________________________________________________\n",
            " Layer (type)                Output Shape              Param #   \n",
            "=================================================================\n",
            " flatten_1 (Flatten)         (None, 784)               0         \n",
            "                                                                 \n",
            " dense_2 (Dense)             (None, 128)               100480    \n",
            "                                                                 \n",
            " dense_3 (Dense)             (None, 10)                1290      \n",
            "                                                                 \n",
            "=================================================================\n",
            "Total params: 101,770\n",
            "Trainable params: 101,770\n",
            "Non-trainable params: 0\n",
            "_________________________________________________________________\n"
          ]
        }
      ]
    },
    {
      "cell_type": "markdown",
      "metadata": {
        "id": "lP3YX44FeTWW"
      },
      "source": [
        "Обучение сети"
      ]
    },
    {
      "cell_type": "code",
      "metadata": {
        "colab": {
          "base_uri": "https://localhost:8080/"
        },
        "id": "NKpavcvieTmM",
        "outputId": "edbbddb9-bc0a-4647-c0d3-8c5787e4f52e"
      },
      "source": [
        "model.fit(x_train, y_train, epochs=10) #Обучение с учителем (что видно, но если забуду)"
      ],
      "execution_count": null,
      "outputs": [
        {
          "output_type": "stream",
          "name": "stdout",
          "text": [
            "Epoch 1/10\n",
            "1875/1875 [==============================] - 6s 3ms/step - loss: 0.7496 - accuracy: 0.7564\n",
            "Epoch 2/10\n",
            "1875/1875 [==============================] - 7s 3ms/step - loss: 0.5148 - accuracy: 0.8253\n",
            "Epoch 3/10\n",
            "1875/1875 [==============================] - 5s 3ms/step - loss: 0.4694 - accuracy: 0.8386\n",
            "Epoch 4/10\n",
            "1875/1875 [==============================] - 5s 3ms/step - loss: 0.4447 - accuracy: 0.8460\n",
            "Epoch 5/10\n",
            "1875/1875 [==============================] - 5s 3ms/step - loss: 0.4264 - accuracy: 0.8524\n",
            "Epoch 6/10\n",
            "1875/1875 [==============================] - 5s 3ms/step - loss: 0.4135 - accuracy: 0.8561\n",
            "Epoch 7/10\n",
            "1875/1875 [==============================] - 6s 3ms/step - loss: 0.4007 - accuracy: 0.8607\n",
            "Epoch 8/10\n",
            "1875/1875 [==============================] - 5s 3ms/step - loss: 0.3914 - accuracy: 0.8640\n",
            "Epoch 9/10\n",
            "1875/1875 [==============================] - 5s 3ms/step - loss: 0.3816 - accuracy: 0.8691\n",
            "Epoch 10/10\n",
            "1875/1875 [==============================] - 5s 2ms/step - loss: 0.3747 - accuracy: 0.8705\n"
          ]
        },
        {
          "output_type": "execute_result",
          "data": {
            "text/plain": [
              "<keras.callbacks.History at 0x7fa284ebbeb0>"
            ]
          },
          "metadata": {},
          "execution_count": 74
        }
      ]
    },
    {
      "cell_type": "markdown",
      "metadata": {
        "id": "ZH8LWmH7fPee"
      },
      "source": [
        "Проверяем на тестовой"
      ]
    },
    {
      "cell_type": "code",
      "metadata": {
        "colab": {
          "base_uri": "https://localhost:8080/"
        },
        "id": "D6pEI53PfZPK",
        "outputId": "1933f584-8583-401c-95b6-e4b4633016d2"
      },
      "source": [
        "test_loss, test_acc = model.evaluate(x_test, y_test)\n",
        "print('Точность предсказания:', test_acc)"
      ],
      "execution_count": null,
      "outputs": [
        {
          "output_type": "stream",
          "name": "stdout",
          "text": [
            "313/313 [==============================] - 1s 2ms/step - loss: 0.4380 - accuracy: 0.8485\n",
            "Точность предсказания: 0.8485000133514404\n"
          ]
        }
      ]
    },
    {
      "cell_type": "markdown",
      "metadata": {
        "id": "aF7FAxLUf2yY"
      },
      "source": [
        "Проверим сеть на компетентность "
      ]
    },
    {
      "cell_type": "code",
      "metadata": {
        "id": "LMKQsYdzf6Et",
        "colab": {
          "base_uri": "https://localhost:8080/"
        },
        "outputId": "4852fc8d-c4a5-4f0a-f0e1-80bc3a178b1f"
      },
      "source": [
        "predict = model.predict(x_train)"
      ],
      "execution_count": null,
      "outputs": [
        {
          "output_type": "stream",
          "name": "stdout",
          "text": [
            "1875/1875 [==============================] - 3s 2ms/step\n"
          ]
        }
      ]
    },
    {
      "cell_type": "code",
      "metadata": {
        "colab": {
          "base_uri": "https://localhost:8080/"
        },
        "id": "iMpVjxm2gFh_",
        "outputId": "e2fc0314-9a3c-4366-f423-099fe3133247"
      },
      "source": [
        "k = 15 #индекс предмета\n",
        "predict[k]"
      ],
      "execution_count": null,
      "outputs": [
        {
          "output_type": "execute_result",
          "data": {
            "text/plain": [
              "array([2.1267754e-08, 5.1862337e-09, 1.7439863e-09, 7.7548507e-10,\n",
              "       3.5187722e-09, 1.3550005e-03, 6.9152120e-09, 1.3465578e-03,\n",
              "       6.0964558e-06, 9.9729234e-01], dtype=float32)"
            ]
          },
          "metadata": {},
          "execution_count": 77
        }
      ]
    },
    {
      "cell_type": "code",
      "metadata": {
        "colab": {
          "base_uri": "https://localhost:8080/"
        },
        "id": "zaHJaG7wgSzQ",
        "outputId": "fd264f41-19fd-49ef-ee56-ad87665b8adf"
      },
      "source": [
        "np.argmax(predict[k])"
      ],
      "execution_count": null,
      "outputs": [
        {
          "output_type": "execute_result",
          "data": {
            "text/plain": [
              "9"
            ]
          },
          "metadata": {},
          "execution_count": 78
        }
      ]
    },
    {
      "cell_type": "code",
      "metadata": {
        "colab": {
          "base_uri": "https://localhost:8080/"
        },
        "id": "liSmkJqwgZ98",
        "outputId": "f5d079a0-9b25-4edb-a7e3-efb24eb17750"
      },
      "source": [
        "y_train[k]"
      ],
      "execution_count": null,
      "outputs": [
        {
          "output_type": "execute_result",
          "data": {
            "text/plain": [
              "9"
            ]
          },
          "metadata": {},
          "execution_count": 79
        }
      ]
    },
    {
      "cell_type": "markdown",
      "metadata": {
        "id": "exGjHIJ2gqdN"
      },
      "source": [
        "Наглядная проверка результата"
      ]
    },
    {
      "cell_type": "code",
      "metadata": {
        "colab": {
          "base_uri": "https://localhost:8080/",
          "height": 269
        },
        "id": "13S1EKdJgvJs",
        "outputId": "9989067c-4f37-40bf-eb9f-3cf2558e3921"
      },
      "source": [
        "plt.figure()\n",
        "plt.imshow(x_train[k])\n",
        "plt.colorbar()\n",
        "plt.grid(False)"
      ],
      "execution_count": null,
      "outputs": [
        {
          "output_type": "display_data",
          "data": {
            "text/plain": [
              "<Figure size 432x288 with 2 Axes>"
            ],
            "image/png": "[encoded data removed]"
          },
          "metadata": {
            "needs_background": "light"
          }
        }
      ]
    },
    {
      "cell_type": "code",
      "metadata": {
        "colab": {
          "base_uri": "https://localhost:8080/",
          "height": 35
        },
        "id": "Y7P7-5YEg9jk",
        "outputId": "3d3be5c3-13c0-49ee-ae90-956a499dacea"
      },
      "source": [
        "class_names[np.argmax(predict[k])]"
      ],
      "execution_count": null,
      "outputs": [
        {
          "output_type": "execute_result",
          "data": {
            "text/plain": [
              "'Ankle boot'"
            ],
            "application/vnd.google.colaboratory.intrinsic+json": {
              "type": "string"
            }
          },
          "metadata": {},
          "execution_count": 81
        }
      ]
    },
    {
      "cell_type": "code",
      "source": [
        "x_train[0]\n"
      ],
      "metadata": {
        "colab": {
          "base_uri": "https://localhost:8080/"
        },
        "id": "2dxscLQMJR50",
        "outputId": "107e7b1a-9ee0-479b-e3c8-bd2f20a22755"
      },
      "execution_count": null,
      "outputs": [
        {
          "output_type": "execute_result",
          "data": {
            "text/plain": [
              "array([[0.        , 0.        , 0.        , 0.        , 0.        ,\n",
              "        0.        , 0.        , 0.        , 0.        , 0.        ,\n",
              "        0.        , 0.        , 0.        , 0.        , 0.        ,\n",
              "        0.        , 0.        , 0.        , 0.        , 0.        ,\n",
              "        0.        , 0.        , 0.        , 0.        , 0.        ,\n",
              "        0.        , 0.        , 0.        ],\n",
              "       [0.        , 0.        , 0.        , 0.        , 0.        ,\n",
              "        0.        , 0.        , 0.        , 0.        , 0.        ,\n",
              "        0.        , 0.        , 0.        , 0.        , 0.        ,\n",
              "        0.        , 0.        , 0.        , 0.        , 0.        ,\n",
              "        0.        , 0.        , 0.        , 0.        , 0.        ,\n",
              "        0.        , 0.        , 0.        ],\n",
              "       [0.        , 0.        , 0.        , 0.        , 0.        ,\n",
              "        0.        , 0.        , 0.        , 0.        , 0.        ,\n",
              "        0.        , 0.        , 0.        , 0.        , 0.        ,\n",
              "        0.        , 0.        , 0.        , 0.        , 0.        ,\n",
              "        0.        , 0.        , 0.        , 0.        , 0.        ,\n",
              "        0.        , 0.        , 0.        ],\n",
              "       [0.        , 0.        , 0.        , 0.        , 0.        ,\n",
              "        0.        , 0.        , 0.        , 0.        , 0.        ,\n",
              "        0.        , 0.        , 0.        , 0.        , 0.        ,\n",
              "        0.        , 0.        , 0.        , 0.        , 0.        ,\n",
              "        0.        , 0.        , 0.        , 0.        , 0.        ,\n",
              "        0.        , 0.        , 0.        ],\n",
              "       [0.        , 0.        , 0.        , 0.        , 0.        ,\n",
              "        0.        , 0.        , 0.        , 0.        , 0.        ,\n",
              "        0.        , 0.        , 0.        , 0.        , 0.        ,\n",
              "        0.        , 0.        , 0.        , 0.        , 0.        ,\n",
              "        0.        , 0.        , 0.        , 0.        , 0.        ,\n",
              "        0.        , 0.        , 0.        ],\n",
              "       [0.        , 0.        , 0.        , 0.        , 0.        ,\n",
              "        0.        , 0.        , 0.        , 0.        , 0.        ,\n",
              "        0.        , 0.        , 0.        , 0.        , 0.33333333,\n",
              "        0.7372549 , 0.57254902, 0.30980392, 0.        , 0.        ,\n",
              "        0.        , 0.        , 0.        , 0.        , 0.        ,\n",
              "        0.        , 0.        , 0.        ],\n",
              "       [0.        , 0.        , 0.        , 0.        , 0.        ,\n",
              "        0.        , 0.        , 0.        , 0.        , 0.        ,\n",
              "        0.        , 0.        , 0.        , 0.        , 0.54901961,\n",
              "        0.79215686, 0.78039216, 1.        , 0.56470588, 0.        ,\n",
              "        0.        , 0.        , 0.        , 0.04313725, 0.52941176,\n",
              "        0.61568627, 0.01960784, 0.        ],\n",
              "       [0.        , 0.        , 0.        , 0.        , 0.        ,\n",
              "        0.        , 0.        , 0.        , 0.        , 0.        ,\n",
              "        0.        , 0.01176471, 0.        , 0.        , 0.78431373,\n",
              "        0.73333333, 0.78431373, 0.74901961, 1.        , 0.2       ,\n",
              "        0.        , 0.        , 0.0627451 , 0.81568627, 0.89019608,\n",
              "        0.9254902 , 0.24705882, 0.        ],\n",
              "       [0.        , 0.        , 0.        , 0.        , 0.        ,\n",
              "        0.        , 0.        , 0.        , 0.        , 0.        ,\n",
              "        0.        , 0.00784314, 0.        , 0.07058824, 0.91372549,\n",
              "        0.75686275, 0.80784314, 0.72941176, 0.85882353, 1.        ,\n",
              "        0.67058824, 0.54901961, 1.        , 0.86666667, 0.79607843,\n",
              "        0.85098039, 0.16862745, 0.        ],\n",
              "       [0.        , 0.        , 0.        , 0.        , 0.        ,\n",
              "        0.        , 0.        , 0.        , 0.        , 0.        ,\n",
              "        0.        , 0.        , 0.        , 0.41960784, 0.85098039,\n",
              "        0.76470588, 0.79607843, 0.8       , 0.81960784, 0.84705882,\n",
              "        0.95686275, 1.        , 0.83529412, 0.81176471, 0.85490196,\n",
              "        0.89411765, 0.28235294, 0.        ],\n",
              "       [0.        , 0.        , 0.        , 0.        , 0.        ,\n",
              "        0.        , 0.        , 0.        , 0.        , 0.        ,\n",
              "        0.        , 0.        , 0.        , 0.90588235, 0.84705882,\n",
              "        0.81960784, 0.8       , 0.80392157, 0.85098039, 0.85490196,\n",
              "        0.83921569, 0.83529412, 0.78823529, 0.82352941, 0.84313725,\n",
              "        0.91372549, 0.50196078, 0.        ],\n",
              "       [0.        , 0.        , 0.        , 0.        , 0.        ,\n",
              "        0.        , 0.        , 0.        , 0.        , 0.        ,\n",
              "        0.00392157, 0.        , 0.12941176, 1.        , 0.80784314,\n",
              "        0.83921569, 0.8       , 0.83529412, 0.85490196, 0.83529412,\n",
              "        0.85098039, 0.87058824, 0.76862745, 0.78823529, 0.80392157,\n",
              "        0.90588235, 0.7254902 , 0.        ],\n",
              "       [0.        , 0.        , 0.        , 0.        , 0.        ,\n",
              "        0.        , 0.        , 0.        , 0.        , 0.03529412,\n",
              "        0.00784314, 0.        , 0.62352941, 0.91764706, 0.75686275,\n",
              "        0.81960784, 0.80784314, 0.84313725, 0.85490196, 0.85098039,\n",
              "        0.86666667, 0.82352941, 0.78823529, 0.80392157, 0.83921569,\n",
              "        0.85882353, 0.97647059, 0.        ],\n",
              "       [0.        , 0.        , 0.        , 0.        , 0.        ,\n",
              "        0.        , 0.        , 0.        , 0.00392157, 0.        ,\n",
              "        0.        , 0.30196078, 1.        , 0.85882353, 0.81176471,\n",
              "        0.8       , 0.80392157, 0.83529412, 0.83529412, 0.84313725,\n",
              "        0.83529412, 0.79607843, 0.82745098, 0.85098039, 0.85098039,\n",
              "        0.79215686, 1.        , 0.27843137],\n",
              "       [0.        , 0.        , 0.00392157, 0.00784314, 0.01176471,\n",
              "        0.01176471, 0.00392157, 0.        , 0.        , 0.        ,\n",
              "        0.4745098 , 0.96078431, 0.83921569, 0.85882353, 0.82352941,\n",
              "        0.78431373, 0.80392157, 0.84313725, 0.84313725, 0.85882353,\n",
              "        0.83921569, 0.8       , 0.81568627, 0.83529412, 0.83921569,\n",
              "        0.78823529, 0.96470588, 0.4627451 ],\n",
              "       [0.        , 0.        , 0.        , 0.        , 0.        ,\n",
              "        0.        , 0.        , 0.        , 0.30588235, 0.84705882,\n",
              "        1.        , 0.81568627, 0.80392157, 0.83921569, 0.77254902,\n",
              "        0.79215686, 0.83921569, 0.82745098, 0.82352941, 0.83529412,\n",
              "        0.82745098, 0.81568627, 0.83921569, 0.8       , 0.81568627,\n",
              "        0.81176471, 0.92941176, 0.53333333],\n",
              "       [0.        , 0.        , 0.        , 0.        , 0.0745098 ,\n",
              "        0.34117647, 0.52941176, 0.82745098, 1.        , 0.85098039,\n",
              "        0.79215686, 0.80784314, 0.83921569, 0.81960784, 0.77647059,\n",
              "        0.79215686, 0.83921569, 0.83921569, 0.82745098, 0.83529412,\n",
              "        0.78431373, 0.81176471, 0.83137255, 0.78823529, 0.77647059,\n",
              "        0.79607843, 0.95294118, 0.50980392],\n",
              "       [0.        , 0.25098039, 0.74509804, 0.85882353, 0.94509804,\n",
              "        0.83921569, 0.89019608, 0.84705882, 0.76078431, 0.75686275,\n",
              "        0.78039216, 0.78823529, 0.78823529, 0.83529412, 0.8       ,\n",
              "        0.77647059, 0.78823529, 0.80392157, 0.81568627, 0.79215686,\n",
              "        0.79215686, 0.80392157, 0.76862745, 0.77647059, 0.79215686,\n",
              "        0.78823529, 1.        , 0.28627451],\n",
              "       [0.09019608, 0.83921569, 0.81960784, 0.77647059, 0.77647059,\n",
              "        0.76470588, 0.78431373, 0.76078431, 0.83137255, 0.78823529,\n",
              "        0.78823529, 0.79607843, 0.8       , 0.82745098, 0.8       ,\n",
              "        0.78039216, 0.78039216, 0.76470588, 0.76078431, 0.70980392,\n",
              "        0.73333333, 0.83137255, 0.81568627, 0.78823529, 0.83137255,\n",
              "        0.85882353, 0.96078431, 0.04313725],\n",
              "       [0.50588235, 0.8627451 , 0.78431373, 0.81176471, 0.80784314,\n",
              "        0.8       , 0.74901961, 0.79215686, 0.81960784, 0.83137255,\n",
              "        0.82745098, 0.81176471, 0.8       , 0.79215686, 0.77647059,\n",
              "        0.80784314, 0.81960784, 0.77647059, 0.8       , 0.87058824,\n",
              "        0.96470588, 0.8745098 , 0.77254902, 0.70196078, 0.64705882,\n",
              "        0.63921569, 0.70196078, 0.        ],\n",
              "       [0.49019608, 0.90980392, 0.82745098, 0.80392157, 0.83529412,\n",
              "        0.83137255, 0.84313725, 0.84705882, 0.83921569, 0.81176471,\n",
              "        0.78431373, 0.77254902, 0.78431373, 0.77254902, 0.80392157,\n",
              "        0.8       , 0.83529412, 0.88627451, 0.94117647, 0.69019608,\n",
              "        0.35686275, 0.63921569, 0.64313725, 0.62352941, 0.63529412,\n",
              "        0.67843137, 0.77647059, 0.        ],\n",
              "       [0.        , 0.57254902, 0.83137255, 0.89803922, 0.84313725,\n",
              "        0.83529412, 0.79607843, 0.77647059, 0.80784314, 0.79607843,\n",
              "        0.79215686, 0.79215686, 0.77254902, 0.76862745, 0.81568627,\n",
              "        0.89019608, 0.88235294, 0.43921569, 0.        , 0.        ,\n",
              "        0.        , 0.7254902 , 0.62745098, 0.63137255, 0.60784314,\n",
              "        0.65490196, 0.8       , 0.        ],\n",
              "       [0.        , 0.        , 0.01960784, 0.45882353, 0.82745098,\n",
              "        0.92941176, 1.        , 0.95686275, 0.90588235, 0.88235294,\n",
              "        0.84705882, 0.8627451 , 0.89411765, 1.        , 0.96078431,\n",
              "        0.47843137, 0.        , 0.        , 0.        , 0.        ,\n",
              "        0.        , 0.90588235, 0.83921569, 0.83137255, 0.86666667,\n",
              "        0.78823529, 0.89411765, 0.02352941],\n",
              "       [0.        , 0.00784314, 0.        , 0.        , 0.        ,\n",
              "        0.        , 0.25882353, 0.45490196, 0.62745098, 0.74901961,\n",
              "        0.81176471, 0.81176471, 0.78431373, 0.47058824, 0.        ,\n",
              "        0.        , 0.        , 0.        , 0.00784314, 0.        ,\n",
              "        0.        , 0.37254902, 0.33333333, 0.30980392, 0.2627451 ,\n",
              "        0.2       , 0.        , 0.        ],\n",
              "       [0.        , 0.        , 0.        , 0.        , 0.        ,\n",
              "        0.        , 0.        , 0.        , 0.        , 0.        ,\n",
              "        0.        , 0.        , 0.        , 0.        , 0.        ,\n",
              "        0.        , 0.        , 0.        , 0.        , 0.        ,\n",
              "        0.        , 0.        , 0.        , 0.        , 0.        ,\n",
              "        0.        , 0.        , 0.        ],\n",
              "       [0.        , 0.        , 0.        , 0.        , 0.        ,\n",
              "        0.        , 0.        , 0.        , 0.        , 0.        ,\n",
              "        0.        , 0.        , 0.        , 0.        , 0.        ,\n",
              "        0.        , 0.        , 0.        , 0.        , 0.        ,\n",
              "        0.        , 0.        , 0.        , 0.        , 0.        ,\n",
              "        0.        , 0.        , 0.        ],\n",
              "       [0.        , 0.        , 0.        , 0.        , 0.        ,\n",
              "        0.        , 0.        , 0.        , 0.        , 0.        ,\n",
              "        0.        , 0.        , 0.        , 0.        , 0.        ,\n",
              "        0.        , 0.        , 0.        , 0.        , 0.        ,\n",
              "        0.        , 0.        , 0.        , 0.        , 0.        ,\n",
              "        0.        , 0.        , 0.        ],\n",
              "       [0.        , 0.        , 0.        , 0.        , 0.        ,\n",
              "        0.        , 0.        , 0.        , 0.        , 0.        ,\n",
              "        0.        , 0.        , 0.        , 0.        , 0.        ,\n",
              "        0.        , 0.        , 0.        , 0.        , 0.        ,\n",
              "        0.        , 0.        , 0.        , 0.        , 0.        ,\n",
              "        0.        , 0.        , 0.        ]])"
            ]
          },
          "metadata": {},
          "execution_count": 161
        }
      ]
    },
    {
      "cell_type": "markdown",
      "source": [
        "================================================================================\n"
      ],
      "metadata": {
        "id": "o0SZoU1p-q0H"
      }
    },
    {
      "cell_type": "code",
      "source": [
        "from google.colab import files\n",
        "from io import BytesIO\n",
        "from PIL import Image\n",
        "\n",
        "uploaded = files.upload()\n",
        "im = Image.open(BytesIO(uploaded['test.png']))"
      ],
      "metadata": {
        "colab": {
          "base_uri": "https://localhost:8080/",
          "height": 73
        },
        "id": "0QxzttxR-t04",
        "outputId": "a00ac62a-5486-4987-9174-f3dd0abba5fa"
      },
      "execution_count": null,
      "outputs": [
        {
          "output_type": "display_data",
          "data": {
            "text/plain": [
              "<IPython.core.display.HTML object>"
            ],
            "text/html": [
              "\n",
              "     <input type=\"file\" id=\"files-c265d28c-6920-4a86-9269-d2e3e7d8ccc8\" name=\"files[]\" multiple disabled\n",
              "        style=\"border:none\" />\n",
              "     <output id=\"result-c265d28c-6920-4a86-9269-d2e3e7d8ccc8\">\n",
              "      Upload widget is only available when the cell has been executed in the\n",
              "      current browser session. Please rerun this cell to enable.\n",
              "      </output>\n",
              "      <script>// Copyright 2017 Google LLC\n",
              "//\n",
              "// Licensed under the Apache License, Version 2.0 (the \"License\");\n",
              "// you may not use this file except in compliance with the License.\n",
              "// You may obtain a copy of the License at\n",
              "//\n",
              "//      http://www.apache.org/licenses/LICENSE-2.0\n",
              "//\n",
              "// Unless required by applicable law or agreed to in writing, software\n",
              "// distributed under the License is distributed on an \"AS IS\" BASIS,\n",
              "// WITHOUT WARRANTIES OR CONDITIONS OF ANY KIND, either express or implied.\n",
              "// See the License for the specific language governing permissions and\n",
              "// limitations under the License.\n",
              "\n",
              "/**\n",
              " * @fileoverview Helpers for google.colab Python module.\n",
              " */\n",
              "(function(scope) {\n",
              "function span(text, styleAttributes = {}) {\n",
              "  const element = document.createElement('span');\n",
              "  element.textContent = text;\n",
              "  for (const key of Object.keys(styleAttributes)) {\n",
              "    element.style[key] = styleAttributes[key];\n",
              "  }\n",
              "  return element;\n",
              "}\n",
              "\n",
              "// Max number of bytes which will be uploaded at a time.\n",
              "const MAX_PAYLOAD_SIZE = 100 * 1024;\n",
              "\n",
              "function _uploadFiles(inputId, outputId) {\n",
              "  const steps = uploadFilesStep(inputId, outputId);\n",
              "  const outputElement = document.getElementById(outputId);\n",
              "  // Cache steps on the outputElement to make it available for the next call\n",
              "  // to uploadFilesContinue from Python.\n",
              "  outputElement.steps = steps;\n",
              "\n",
              "  return _uploadFilesContinue(outputId);\n",
              "}\n",
              "\n",
              "// This is roughly an async generator (not supported in the browser yet),\n",
              "// where there are multiple asynchronous steps and the Python side is going\n",
              "// to poll for completion of each step.\n",
              "// This uses a Promise to block the python side on completion of each step,\n",
              "// then passes the result of the previous step as the input to the next step.\n",
              "function _uploadFilesContinue(outputId) {\n",
              "  const outputElement = document.getElementById(outputId);\n",
              "  const steps = outputElement.steps;\n",
              "\n",
              "  const next = steps.next(outputElement.lastPromiseValue);\n",
              "  return Promise.resolve(next.value.promise).then((value) => {\n",
              "    // Cache the last promise value to make it available to the next\n",
              "    // step of the generator.\n",
              "    outputElement.lastPromiseValue = value;\n",
              "    return next.value.response;\n",
              "  });\n",
              "}\n",
              "\n",
              "/**\n",
              " * Generator function which is called between each async step of the upload\n",
              " * process.\n",
              " * @param {string} inputId Element ID of the input file picker element.\n",
              " * @param {string} outputId Element ID of the output display.\n",
              " * @return {!Iterable<!Object>} Iterable of next steps.\n",
              " */\n",
              "function* uploadFilesStep(inputId, outputId) {\n",
              "  const inputElement = document.getElementById(inputId);\n",
              "  inputElement.disabled = false;\n",
              "\n",
              "  const outputElement = document.getElementById(outputId);\n",
              "  outputElement.innerHTML = '';\n",
              "\n",
              "  const pickedPromise = new Promise((resolve) => {\n",
              "    inputElement.addEventListener('change', (e) => {\n",
              "      resolve(e.target.files);\n",
              "    });\n",
              "  });\n",
              "\n",
              "  const cancel = document.createElement('button');\n",
              "  inputElement.parentElement.appendChild(cancel);\n",
              "  cancel.textContent = 'Cancel upload';\n",
              "  const cancelPromise = new Promise((resolve) => {\n",
              "    cancel.onclick = () => {\n",
              "      resolve(null);\n",
              "    };\n",
              "  });\n",
              "\n",
              "  // Wait for the user to pick the files.\n",
              "  const files = yield {\n",
              "    promise: Promise.race([pickedPromise, cancelPromise]),\n",
              "    response: {\n",
              "      action: 'starting',\n",
              "    }\n",
              "  };\n",
              "\n",
              "  cancel.remove();\n",
              "\n",
              "  // Disable the input element since further picks are not allowed.\n",
              "  inputElement.disabled = true;\n",
              "\n",
              "  if (!files) {\n",
              "    return {\n",
              "      response: {\n",
              "        action: 'complete',\n",
              "      }\n",
              "    };\n",
              "  }\n",
              "\n",
              "  for (const file of files) {\n",
              "    const li = document.createElement('li');\n",
              "    li.append(span(file.name, {fontWeight: 'bold'}));\n",
              "    li.append(span(\n",
              "        `(${file.type || 'n/a'}) - ${file.size} bytes, ` +\n",
              "        `last modified: ${\n",
              "            file.lastModifiedDate ? file.lastModifiedDate.toLocaleDateString() :\n",
              "                                    'n/a'} - `));\n",
              "    const percent = span('0% done');\n",
              "    li.appendChild(percent);\n",
              "\n",
              "    outputElement.appendChild(li);\n",
              "\n",
              "    const fileDataPromise = new Promise((resolve) => {\n",
              "      const reader = new FileReader();\n",
              "      reader.onload = (e) => {\n",
              "        resolve(e.target.result);\n",
              "      };\n",
              "      reader.readAsArrayBuffer(file);\n",
              "    });\n",
              "    // Wait for the data to be ready.\n",
              "    let fileData = yield {\n",
              "      promise: fileDataPromise,\n",
              "      response: {\n",
              "        action: 'continue',\n",
              "      }\n",
              "    };\n",
              "\n",
              "    // Use a chunked sending to avoid message size limits. See b/62115660.\n",
              "    let position = 0;\n",
              "    do {\n",
              "      const length = Math.min(fileData.byteLength - position, MAX_PAYLOAD_SIZE);\n",
              "      const chunk = new Uint8Array(fileData, position, length);\n",
              "      position += length;\n",
              "\n",
              "      const base64 = btoa(String.fromCharCode.apply(null, chunk));\n",
              "      yield {\n",
              "        response: {\n",
              "          action: 'append',\n",
              "          file: file.name,\n",
              "          data: base64,\n",
              "        },\n",
              "      };\n",
              "\n",
              "      let percentDone = fileData.byteLength === 0 ?\n",
              "          100 :\n",
              "          Math.round((position / fileData.byteLength) * 100);\n",
              "      percent.textContent = `${percentDone}% done`;\n",
              "\n",
              "    } while (position < fileData.byteLength);\n",
              "  }\n",
              "\n",
              "  // All done.\n",
              "  yield {\n",
              "    response: {\n",
              "      action: 'complete',\n",
              "    }\n",
              "  };\n",
              "}\n",
              "\n",
              "scope.google = scope.google || {};\n",
              "scope.google.colab = scope.google.colab || {};\n",
              "scope.google.colab._files = {\n",
              "  _uploadFiles,\n",
              "  _uploadFilesContinue,\n",
              "};\n",
              "})(self);\n",
              "</script> "
            ]
          },
          "metadata": {}
        },
        {
          "output_type": "stream",
          "name": "stdout",
          "text": [
            "Saving test.png to test.png\n"
          ]
        }
      ]
    },
    {
      "cell_type": "code",
      "source": [
        "im= np.array(im)"
      ],
      "metadata": {
        "id": "rPVhb_GlBlNm"
      },
      "execution_count": null,
      "outputs": []
    },
    {
      "cell_type": "code",
      "source": [
        "im = im / 255\n",
        "im"
      ],
      "metadata": {
        "colab": {
          "base_uri": "https://localhost:8080/"
        },
        "id": "iqQLv37LBv5K",
        "outputId": "e8767f32-a673-440a-9a44-8b5056715fb2"
      },
      "execution_count": null,
      "outputs": [
        {
          "output_type": "execute_result",
          "data": {
            "text/plain": [
              "array([[[0.26666667, 0.00392157, 0.32941176],\n",
              "        [0.26666667, 0.00392157, 0.32941176],\n",
              "        [0.26666667, 0.00392157, 0.32941176],\n",
              "        ...,\n",
              "        [0.26666667, 0.00392157, 0.32941176],\n",
              "        [0.26666667, 0.00392157, 0.32941176],\n",
              "        [0.26666667, 0.00392157, 0.32941176]],\n",
              "\n",
              "       [[0.26666667, 0.00392157, 0.32941176],\n",
              "        [0.26666667, 0.00392157, 0.32941176],\n",
              "        [0.26666667, 0.00392157, 0.32941176],\n",
              "        ...,\n",
              "        [0.26666667, 0.00392157, 0.32941176],\n",
              "        [0.26666667, 0.00392157, 0.32941176],\n",
              "        [0.26666667, 0.00392157, 0.32941176]],\n",
              "\n",
              "       [[0.26666667, 0.00392157, 0.32941176],\n",
              "        [0.26666667, 0.00392157, 0.32941176],\n",
              "        [0.26666667, 0.00392157, 0.32941176],\n",
              "        ...,\n",
              "        [0.26666667, 0.00392157, 0.32941176],\n",
              "        [0.26666667, 0.00392157, 0.32941176],\n",
              "        [0.26666667, 0.00392157, 0.32941176]],\n",
              "\n",
              "       ...,\n",
              "\n",
              "       [[0.26666667, 0.00392157, 0.32941176],\n",
              "        [0.25882353, 0.02352941, 0.3372549 ],\n",
              "        [0.23529412, 0.14117647, 0.40392157],\n",
              "        ...,\n",
              "        [0.22352941, 0.19607843, 0.43529412],\n",
              "        [0.26666667, 0.00392157, 0.32941176],\n",
              "        [0.26666667, 0.00392157, 0.32941176]],\n",
              "\n",
              "       [[0.26666667, 0.00392157, 0.32941176],\n",
              "        [0.26666667, 0.00392157, 0.32941176],\n",
              "        [0.2627451 , 0.00392157, 0.32941176],\n",
              "        ...,\n",
              "        [0.25882353, 0.03137255, 0.34509804],\n",
              "        [0.26666667, 0.00392157, 0.32941176],\n",
              "        [0.26666667, 0.00392157, 0.32941176]],\n",
              "\n",
              "       [[0.26666667, 0.00392157, 0.32941176],\n",
              "        [0.26666667, 0.00392157, 0.32941176],\n",
              "        [0.26666667, 0.00392157, 0.32941176],\n",
              "        ...,\n",
              "        [0.26666667, 0.00392157, 0.32941176],\n",
              "        [0.26666667, 0.00392157, 0.32941176],\n",
              "        [0.26666667, 0.00392157, 0.32941176]]])"
            ]
          },
          "metadata": {},
          "execution_count": 168
        }
      ]
    },
    {
      "cell_type": "code",
      "source": [
        "test = model.predict(im)\n",
        "test"
      ],
      "metadata": {
        "colab": {
          "base_uri": "https://localhost:8080/"
        },
        "id": "KyZkS-DOGjp-",
        "outputId": "0e86f64c-6827-48b1-d545-36b45a3543ac"
      },
      "execution_count": null,
      "outputs": [
        {
          "output_type": "stream",
          "name": "stdout",
          "text": [
            "1/1 [==============================] - 0s 29ms/step\n"
          ]
        },
        {
          "output_type": "execute_result",
          "data": {
            "text/plain": [
              "array([[1.0195912e-02, 2.1780422e-03, 1.4965788e-02, 8.3416759e-04,\n",
              "        1.0422801e-03, 2.0615851e-04, 2.9417214e-03, 2.3923087e-04,\n",
              "        9.6673501e-01, 6.6167302e-04],\n",
              "       [5.3330589e-02, 6.6938172e-03, 3.5319224e-02, 6.4383820e-03,\n",
              "        4.9704913e-04, 3.5905701e-04, 2.4485143e-02, 2.4013937e-04,\n",
              "        8.7174845e-01, 8.8808115e-04],\n",
              "       [3.1602066e-02, 1.5878728e-02, 5.7203159e-02, 3.4335933e-03,\n",
              "        1.1225007e-03, 1.0480229e-04, 2.4017567e-02, 2.9022322e-04,\n",
              "        8.6587703e-01, 4.7025626e-04]], dtype=float32)"
            ]
          },
          "metadata": {},
          "execution_count": 169
        }
      ]
    },
    {
      "cell_type": "code",
      "source": [
        "plt.figure()\n",
        "plt.imshow(im)\n",
        "plt.colorbar()\n",
        "plt.grid(False)"
      ],
      "metadata": {
        "colab": {
          "base_uri": "https://localhost:8080/",
          "height": 265
        },
        "id": "JfYnF2DWB5dQ",
        "outputId": "f037090a-9815-4756-baa1-38bffde92f81"
      },
      "execution_count": null,
      "outputs": [
        {
          "output_type": "display_data",
          "data": {
            "text/plain": [
              "<Figure size 432x288 with 2 Axes>"
            ],
            "image/png": "[encoded data removed]"
          },
          "metadata": {
            "needs_background": "light"
          }
        }
      ]
    },
    {
      "cell_type": "code",
      "source": [
        "class_names[np.argmax(test)]"
      ],
      "metadata": {
        "colab": {
          "base_uri": "https://localhost:8080/",
          "height": 35
        },
        "id": "GcdFF0U1B_FI",
        "outputId": "165db6de-420f-40c5-e7c7-e3d74ddec4c4"
      },
      "execution_count": null,
      "outputs": [
        {
          "output_type": "execute_result",
          "data": {
            "text/plain": [
              "'Bag'"
            ],
            "application/vnd.google.colaboratory.intrinsic+json": {
              "type": "string"
            }
          },
          "metadata": {},
          "execution_count": 171
        }
      ]
    }
  ]
}